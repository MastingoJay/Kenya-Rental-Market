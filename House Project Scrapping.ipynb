{
 "cells": [
  {
   "cell_type": "code",
   "execution_count": 2,
   "id": "59ab247d-a4fc-45ab-882e-c6d6630b19f2",
   "metadata": {},
   "outputs": [],
   "source": [
    "import requests\n",
    "import pandas as pd\n",
    "from bs4 import BeautifulSoup"
   ]
  },
  {
   "cell_type": "code",
   "execution_count": 4,
   "id": "3966e02a-e092-4437-90ea-e227051d2e37",
   "metadata": {},
   "outputs": [],
   "source": [
    "# Base URL and headers\n",
    "base_url = \"https://www.buyrentkenya.com/houses-for-rent?page=\"\n",
    "headers = {\n",
    "    'User-Agent': \"Mozilla/5.0 (Windows NT 10.0; Win64; x64) AppleWebKit/537.36 (KHTML, like Gecko) Chrome/124.0.0.0 Safari/537.36\",\n",
    "    'Accept-Language': 'en-US,en;q=0.9'\n",
    "}"
   ]
  },
  {
   "cell_type": "code",
   "execution_count": 6,
   "id": "d7c21f14-52de-45af-b42b-006e2110381b",
   "metadata": {},
   "outputs": [],
   "source": [
    "# Lists to store scraped data\n",
    "titles, locations, no_of_bedrooms, no_of_bathrooms, descriptions, prices = [], [], [], [], [], []"
   ]
  },
  {
   "cell_type": "code",
   "execution_count": 8,
   "id": "74756310-3160-46b8-a880-fa96d99c927c",
   "metadata": {},
   "outputs": [
    {
     "name": "stdout",
     "output_type": "stream",
     "text": [
      "Failed to fetch page 1\n",
      "Scraped page 2\n",
      "Scraped page 3\n",
      "Scraped page 4\n",
      "Scraped page 5\n",
      "Scraped page 6\n",
      "Scraped page 7\n",
      "Scraped page 8\n",
      "Scraped page 9\n",
      "Scraped page 10\n",
      "Scraped page 11\n",
      "Scraped page 12\n",
      "Scraped page 13\n",
      "Scraped page 14\n",
      "Scraped page 15\n",
      "Scraped page 16\n",
      "Scraped page 17\n",
      "Scraped page 18\n",
      "Scraped page 19\n",
      "Scraped page 20\n",
      "Scraped page 21\n",
      "Scraped page 22\n",
      "Scraped page 23\n",
      "Scraped page 24\n",
      "Scraped page 25\n",
      "Scraped page 26\n",
      "Scraped page 27\n",
      "Scraped page 28\n",
      "Scraped page 29\n",
      "Scraped page 30\n",
      "Scraped page 31\n",
      "Scraped page 32\n",
      "Scraped page 33\n",
      "Scraped page 34\n",
      "Scraped page 35\n",
      "Scraped page 36\n",
      "Scraped page 37\n",
      "Scraped page 38\n",
      "Scraped page 39\n",
      "Scraped page 40\n",
      "Scraped page 41\n",
      "Scraped page 42\n",
      "Scraped page 43\n",
      "Scraped page 44\n",
      "Scraped page 45\n",
      "Scraped page 46\n",
      "Scraped page 47\n",
      "Scraped page 48\n",
      "Scraped page 49\n",
      "Scraped page 50\n",
      "Scraped page 51\n",
      "Scraped page 52\n",
      "Scraped page 53\n",
      "Scraped page 54\n",
      "Scraped page 55\n",
      "Scraped page 56\n",
      "Scraped page 57\n",
      "Scraped page 58\n",
      "Scraped page 59\n",
      "Scraped page 60\n",
      "Scraped page 61\n",
      "Scraped page 62\n",
      "Scraped page 63\n",
      "Scraped page 64\n",
      "Scraped page 65\n",
      "Scraped page 66\n",
      "Scraped page 67\n",
      "Scraped page 68\n",
      "Scraped page 69\n"
     ]
    }
   ],
   "source": [
    "# Loop through multiple pages\n",
    "for page in range(1, 70):  # Start from page 1\n",
    "    url = f\"{base_url}{page}\"\n",
    "    response = requests.get(url, headers=headers)\n",
    "    \n",
    "    if response.status_code != 200:\n",
    "        print(f\"Failed to fetch page {page}\")\n",
    "        continue  # Skip this page if request fails\n",
    "    \n",
    "    soup = BeautifulSoup(response.text, \"html.parser\")\n",
    "    houses = soup.find_all('div', class_='listing-card')\n",
    "    \n",
    "    for house in houses:\n",
    "        title = house.find('span', class_='relative top-[2px] hidden md:inline')\n",
    "        location = house.find('p', class_='ml-1 truncate text-sm font-normal capitalize text-grey-650')\n",
    "        bedroom_info = house.find_all('span', class_='whitespace-nowrap font-normal')\n",
    "        description = house.find('a', class_='block truncate text-grey-500 no-underline')\n",
    "        price = house.find('p', class_='text-xl font-bold leading-7 text-grey-900')\n",
    "        \n",
    "        titles.append(title.get_text(strip=True) if title else \"N/A\")\n",
    "        locations.append(location.get_text(strip=True) if location else \"N/A\")\n",
    "        no_of_bedrooms.append(bedroom_info[0].get_text(strip=True) if len(bedroom_info) > 0 else \"N/A\")\n",
    "        no_of_bathrooms.append(bedroom_info[1].get_text(strip=True) if len(bedroom_info) > 1 else \"N/A\")\n",
    "        descriptions.append(description.get_text(strip=True) if description else \"N/A\")\n",
    "        prices.append(price.get_text(strip=True) if price else \"N/A\")\n",
    "\n",
    "    print(f\"Scraped page {page}\")\n",
    "\n"
   ]
  },
  {
   "cell_type": "code",
   "execution_count": 10,
   "id": "82a60875-e6c3-4922-9e8d-0a573de09da8",
   "metadata": {},
   "outputs": [],
   "source": [
    "# Save to DataFrame\n",
    "df = pd.DataFrame({\n",
    "    'Title': titles,\n",
    "    'Location': locations,\n",
    "    'No of Bedrooms': no_of_bedrooms,\n",
    "    'No of Bathrooms': no_of_bathrooms,\n",
    "    'Description': descriptions,\n",
    "    'Price': prices\n",
    "})"
   ]
  },
  {
   "cell_type": "code",
   "execution_count": 12,
   "id": "8df3f2be-f1a5-42c3-93c6-bd543961cdeb",
   "metadata": {},
   "outputs": [
    {
     "name": "stdout",
     "output_type": "stream",
     "text": [
      "Scraping complete! Total records: 1509\n"
     ]
    }
   ],
   "source": [
    "# Save to CSV\n",
    "df.to_csv('buy_rent_kenya.csv', index=False)\n",
    "print(f\"Scraping complete! Total records: {df.shape[0]}\")"
   ]
  },
  {
   "cell_type": "code",
   "execution_count": 14,
   "id": "c7fab4a0-29b3-4917-af04-48cd073a14c8",
   "metadata": {},
   "outputs": [
    {
     "data": {
      "text/html": [
       "<a href='buy_rent_kenya.csv' target='_blank'>buy_rent_kenya.csv</a><br>"
      ],
      "text/plain": [
       "C:\\Users\\DELL\\buy_rent_kenya.csv"
      ]
     },
     "execution_count": 14,
     "metadata": {},
     "output_type": "execute_result"
    }
   ],
   "source": [
    "#downloading the csv file\n",
    "from IPython.display import FileLink\n",
    "FileLink('buy_rent_kenya.csv')\n"
   ]
  },
  {
   "cell_type": "code",
   "execution_count": null,
   "id": "7c3272c9-2a68-4476-97f8-f2e97f197139",
   "metadata": {},
   "outputs": [],
   "source": []
  }
 ],
 "metadata": {
  "kernelspec": {
   "display_name": "Python 3 (ipykernel)",
   "language": "python",
   "name": "python3"
  },
  "language_info": {
   "codemirror_mode": {
    "name": "ipython",
    "version": 3
   },
   "file_extension": ".py",
   "mimetype": "text/x-python",
   "name": "python",
   "nbconvert_exporter": "python",
   "pygments_lexer": "ipython3",
   "version": "3.12.4"
  }
 },
 "nbformat": 4,
 "nbformat_minor": 5
}
